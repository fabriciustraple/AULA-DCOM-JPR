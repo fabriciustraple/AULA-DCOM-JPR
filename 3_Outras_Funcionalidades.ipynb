{
  "nbformat": 4,
  "nbformat_minor": 0,
  "metadata": {
    "colab": {
      "name": "3. Outras Funcionalidades.ipynb",
      "provenance": [],
      "collapsed_sections": [],
      "include_colab_link": true
    },
    "kernelspec": {
      "display_name": "Python 3",
      "language": "python",
      "name": "python3"
    },
    "language_info": {
      "codemirror_mode": {
        "name": "ipython",
        "version": 3
      },
      "file_extension": ".py",
      "mimetype": "text/x-python",
      "name": "python",
      "nbconvert_exporter": "python",
      "pygments_lexer": "ipython3",
      "version": "3.7.4"
    }
  },
  "cells": [
    {
      "cell_type": "markdown",
      "metadata": {
        "id": "view-in-github",
        "colab_type": "text"
      },
      "source": [
        "<a href=\"https://colab.research.google.com/github/paulokuriki/python_for_rads/blob/master/3_Outras_Funcionalidades.ipynb\" target=\"_parent\"><img src=\"https://colab.research.google.com/assets/colab-badge.svg\" alt=\"Open In Colab\"/></a>"
      ]
    },
    {
      "cell_type": "markdown",
      "metadata": {
        "colab_type": "text",
        "id": "LAwAO8Klqdb8"
      },
      "source": [
        "# Outras funcionalidades do Python\n",
        "![alt text](https://drive.google.com/uc?id=1tEEk2sfwMJLVHm_B5tD0Sv_wOJkeXedE)\n",
        "\n",
        "Neste último módulo, vamos explorar algumas outras funcionalidades interessantes do Python.\n",
        "\n",
        "- Convertendo DICOM para JPEG com `opencv-python`\n",
        "- Enviando email automatizados com `yagmail`\n",
        "- Trabalhando com arquivos CSV com `pandas`\n",
        "- Criando Dashboards com `dash`\n",
        "- Automatizando cliques com `PyAutoGUI`"
      ]
    },
    {
      "cell_type": "markdown",
      "metadata": {
        "colab_type": "text",
        "id": "pC1y_lDiyzaF"
      },
      "source": [
        "## Convertendo arquivos DICOM para JPEG\n",
        "\n",
        "Carregue os pixel data provenientes dos arquivos DICOM.\n",
        "\n",
        "Utilize a biblioteca `cv2` para gravar no formato JPEG.\n"
      ]
    },
    {
      "cell_type": "code",
      "metadata": {
        "colab_type": "code",
        "id": "niC9-pnh1mrg",
        "colab": {}
      },
      "source": [
        "#@title Instalando as bibliotecas Python { display-mode: \"form\" }\n",
        "# No Google Colab, insira o símbolo ! para executar um comando do shell\n",
        "!pip install pydicom\n",
        "!pip install opencv-python\n",
        "!pip install yagmail \n",
        "!pip install pandas\n",
        "!pip install dash"
      ],
      "execution_count": 0,
      "outputs": []
    },
    {
      "cell_type": "code",
      "metadata": {
        "colab_type": "code",
        "id": "jTyBdhCzZtQR",
        "colab": {}
      },
      "source": [
        "#@title Baixando os arquivos auxiliares { display-mode: \"form\" }\n",
        "!rm *.dcm\n",
        "!rm *.jpg\n",
        "!rm *.png\n",
        "!rm *.csv\n",
        "!wget https://github.com/paulokuriki/python_for_rads/raw/master/torax_1.dcm\n",
        "!wget https://github.com/paulokuriki/python_for_rads/raw/master/torax_2.dcm\n",
        "!wget https://github.com/paulokuriki/python_for_rads/raw/master/torax_3.dcm\n",
        "!wget https://github.com/paulokuriki/python_for_rads/raw/master/logo.png\n",
        "!wget https://github.com/paulokuriki/python_for_rads/raw/master/covid.csv"
      ],
      "execution_count": 0,
      "outputs": []
    },
    {
      "cell_type": "code",
      "metadata": {
        "cellView": "code",
        "colab_type": "code",
        "id": "JjRrN5MnqX1R",
        "colab": {}
      },
      "source": [
        "import pydicom\n",
        "import glob\n",
        "import cv2\n",
        "import os\n",
        "\n",
        "# define a pasta inicial que será vasculhada. Define que serão procurados os arquivos com extensão .dcm\n",
        "var_pasta = \"/content/*.dcm\"\n",
        "# o objeto glob cria uma lista com o nome de todos os arquivos encontrados que atendam o filtro informado no parâmetro. \n",
        "lista_dicom_files = glob.glob(var_pasta)\n",
        "\n",
        "# loop para cada arquivo DICOM encontrado na lista criada pelo objeto glob\n",
        "i = 0\n",
        "for var_arq_dicom in lista_dicom_files:\n",
        "\n",
        "  # le o arquivo DICOM e pega o pixel_data\n",
        "  ds = pydicom.dcmread(var_arq_dicom)\n",
        "  img_pixel_array = ds.pixel_array.shape\n",
        "\n",
        "  # cria o nome do novo arquivo jpeg, trocando a extensão dcm para jpeg\n",
        "  var_nome_arq_jpg = var_arq_dicom.replace('.dcm', '.png')\n",
        "\n",
        "  # armazena \n",
        "  cv2.imwrite(var_nome_arq_jpg, image_2d_scaled)\n",
        "  print(\"Criado arquivo:\", var_nome_arq_jpg)\n",
        "\n",
        "  # soma um número no contador de exames convertidos\n",
        "  i = i + 1\n",
        "\n",
        "print(\"Total de exames convertidos:\", i)"
      ],
      "execution_count": 0,
      "outputs": []
    },
    {
      "cell_type": "markdown",
      "metadata": {
        "colab_type": "text",
        "id": "O5kos6hXqcNa"
      },
      "source": [
        "## Enviando Emails automaticamento\n",
        "\n",
        "Várias bibliotecas podem ser utilizadas para enviar emails.\n",
        "\n",
        "A biblioteca padrão do Python é a `smtplib`.\n",
        "\n",
        "Porém, outras bibliotecas, como a `yagmail`, utilizam a `smtplib` facilitando seu uso para o Gmail.\n"
      ]
    },
    {
      "cell_type": "code",
      "metadata": {
        "colab_type": "code",
        "id": "8dzTgM7uY7iZ",
        "colab": {}
      },
      "source": [
        "import yagmail\n",
        "import getpass\n",
        "\n",
        "sender_email = input(\"Email do remetente:\")\n",
        "receiver_email = input(\"Email do destinatário:\")\n",
        "subject = input(\"Assunto:\")\n",
        "sender_password = getpass.getpass(prompt='Password: ')\n",
        "yag = yagmail.SMTP(user=sender_email, password=sender_password)\n",
        "\n",
        "contents = [\n",
        "  \"Este é um teste de envio de email. \\n\",\n",
        "  \"Utilizando essa biblioteca, é muito fácil enviar emails. \\n\",\n",
        "  \"Você pode adaptar esse código para ser utilizado como quiser.\",\n",
        "]\n",
        "\n",
        "yag.send(receiver_email, subject, contents)\n",
        "\n",
        "print(\"Email enviado com sucesso.\")\n",
        "\n",
        "# pode ser necessário alterar sua configuração para acesso via smtp no gmail\n",
        "# https://myaccount.google.com/lesssecureapps?pli=1"
      ],
      "execution_count": 0,
      "outputs": []
    },
    {
      "cell_type": "markdown",
      "metadata": {
        "colab_type": "text",
        "id": "OJrUJeM6jW6L"
      },
      "source": [
        "## Trabalhando com Arquivos CSV\n",
        "\n",
        "Utilizando as bibliotecas pandas e dash, é possível criar rapidamente dashboards."
      ]
    },
    {
      "cell_type": "code",
      "metadata": {
        "colab_type": "code",
        "id": "gLaFLZenjVZi",
        "colab": {}
      },
      "source": [
        "import pandas as pd\n",
        "\n",
        "df = pd.read_csv(\"covid.csv\", delimiter=\";\")\n",
        "df.head(5)"
      ],
      "execution_count": 0,
      "outputs": []
    },
    {
      "cell_type": "code",
      "metadata": {
        "colab_type": "code",
        "id": "og7mEaF8kasM",
        "colab": {}
      },
      "source": [
        "import dash\n",
        "import dash_core_components as dcc\n",
        "import dash_html_components as html\n",
        "from dash.dependencies import Input, Output\n",
        "\n",
        "external_stylesheets = ['https://codepen.io/chriddyp/pen/bWLwgP.css']\n",
        "\n",
        "app = dash.Dash(__name__, external_stylesheets=external_stylesheets)\n",
        "\n",
        "app.layout = html.Div([\n",
        "    dcc.Input(id='my-id', value='initial value', type='text'),\n",
        "    html.Div(id='my-div')\n",
        "])\n",
        "\n",
        "\n",
        "@app.callback(\n",
        "    Output(component_id='my-div', component_property='children'),\n",
        "    [Input(component_id='my-id', component_property='value')]\n",
        ")\n",
        "def update_output_div(input_value):\n",
        "    return 'You\\'ve entered \"{}\"'.format(input_value)\n",
        "\n",
        "\n",
        "if __name__ == '__main__':\n",
        "    app.run_server(debug=False)"
      ],
      "execution_count": 0,
      "outputs": []
    },
    {
      "cell_type": "code",
      "metadata": {
        "id": "M65G3GFnsrXG",
        "colab_type": "code",
        "colab": {}
      },
      "source": [
        ""
      ],
      "execution_count": 0,
      "outputs": []
    }
  ]
}