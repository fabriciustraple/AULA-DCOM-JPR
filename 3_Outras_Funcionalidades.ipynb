{
  "nbformat": 4,
  "nbformat_minor": 0,
  "metadata": {
    "colab": {
      "name": "3. Outras Funcionalidades.ipynb",
      "provenance": [],
      "collapsed_sections": [],
      "toc_visible": true,
      "include_colab_link": true
    },
    "kernelspec": {
      "display_name": "Python 3",
      "language": "python",
      "name": "python3"
    },
    "language_info": {
      "codemirror_mode": {
        "name": "ipython",
        "version": 3
      },
      "file_extension": ".py",
      "mimetype": "text/x-python",
      "name": "python",
      "nbconvert_exporter": "python",
      "pygments_lexer": "ipython3",
      "version": "3.7.4"
    }
  },
  "cells": [
    {
      "cell_type": "markdown",
      "metadata": {
        "id": "view-in-github",
        "colab_type": "text"
      },
      "source": [
        "<a href=\"https://colab.research.google.com/github/paulokuriki/python_for_rads/blob/master/3_Outras_Funcionalidades.ipynb\" target=\"_parent\"><img src=\"https://colab.research.google.com/assets/colab-badge.svg\" alt=\"Open In Colab\"/></a>"
      ]
    },
    {
      "cell_type": "markdown",
      "metadata": {
        "colab_type": "text",
        "id": "LAwAO8Klqdb8"
      },
      "source": [
        "# Outras funcionalidades do Python\n",
        "![alt text](https://github.com/paulokuriki/python_for_rads/raw/master/Header3.PNG)\n",
        "\n",
        "Neste último módulo, vamos explorar algumas outras funcionalidades interessantes do Python.\n",
        "\n",
        "- Convertendo DICOM para JPEG com `opencv-python`\n",
        "- Enviando email automatizados com `yagmail`\n",
        "- Trabalhando com arquivos CSV utilizando a biblioteca `pandas`\n",
        "- Criando Dashboards com `dash`\n",
        "- Automatizando cliques com `PyAutoGUI`"
      ]
    },
    {
      "cell_type": "markdown",
      "metadata": {
        "colab_type": "text",
        "id": "pC1y_lDiyzaF"
      },
      "source": [
        "## Convertendo arquivos DICOM para JPEG\n",
        "\n",
        "Carregue os pixel data provenientes dos arquivos DICOM.\n",
        "\n",
        "Utilize a biblioteca `cv2` para gravar no formato JPEG.\n"
      ]
    },
    {
      "cell_type": "code",
      "metadata": {
        "colab_type": "code",
        "id": "niC9-pnh1mrg",
        "colab": {},
        "outputId": "706c2dc1-aae0-4c93-895c-48efecf65992"
      },
      "source": [
        "#@title Instalando as bibliotecas Python { display-mode: \"form\" }\n",
        "# No Google Colab, insira o símbolo ! para executar um comando do shell\n",
        "!pip install pydicom\n",
        "!pip install opencv-python\n",
        "!pip install yagmail \n",
        "!pip install pandas\n",
        "!pip install dash\n",
        "!pip install pyautogui"
      ],
      "execution_count": 0,
      "outputs": [
        {
          "output_type": "stream",
          "text": [
            "Requirement already satisfied: pydicom in c:\\users\\paulo\\anaconda3\\lib\\site-packages (1.4.2)\n",
            "Requirement already satisfied: opencv-python in c:\\users\\paulo\\anaconda3\\lib\\site-packages (4.2.0.34)\n",
            "Requirement already satisfied: numpy>=1.14.5 in c:\\users\\paulo\\anaconda3\\lib\\site-packages (from opencv-python) (1.16.5)\n",
            "Requirement already satisfied: yagmail in c:\\users\\paulo\\anaconda3\\lib\\site-packages (0.11.224)\n",
            "Requirement already satisfied: pandas in c:\\users\\paulo\\anaconda3\\lib\\site-packages (0.25.1)\n",
            "Requirement already satisfied: python-dateutil>=2.6.1 in c:\\users\\paulo\\anaconda3\\lib\\site-packages (from pandas) (2.8.0)\n",
            "Requirement already satisfied: numpy>=1.13.3 in c:\\users\\paulo\\anaconda3\\lib\\site-packages (from pandas) (1.16.5)\n",
            "Requirement already satisfied: pytz>=2017.2 in c:\\users\\paulo\\anaconda3\\lib\\site-packages (from pandas) (2019.3)\n",
            "Requirement already satisfied: six>=1.5 in c:\\users\\paulo\\anaconda3\\lib\\site-packages (from python-dateutil>=2.6.1->pandas) (1.12.0)\n",
            "Requirement already satisfied: dash in c:\\users\\paulo\\anaconda3\\lib\\site-packages (1.11.0)\n",
            "Requirement already satisfied: dash-html-components==1.0.3 in c:\\users\\paulo\\anaconda3\\lib\\site-packages (from dash) (1.0.3)\n",
            "Requirement already satisfied: future in c:\\users\\paulo\\anaconda3\\lib\\site-packages (from dash) (0.17.1)\n",
            "Requirement already satisfied: dash-table==4.6.2 in c:\\users\\paulo\\anaconda3\\lib\\site-packages (from dash) (4.6.2)\n",
            "Requirement already satisfied: dash-core-components==1.9.1 in c:\\users\\paulo\\anaconda3\\lib\\site-packages (from dash) (1.9.1)\n",
            "Requirement already satisfied: plotly in c:\\users\\paulo\\anaconda3\\lib\\site-packages (from dash) (4.6.0)\n",
            "Requirement already satisfied: Flask>=1.0.2 in c:\\users\\paulo\\anaconda3\\lib\\site-packages (from dash) (1.1.1)\n",
            "Requirement already satisfied: dash-renderer==1.4.0 in c:\\users\\paulo\\anaconda3\\lib\\site-packages (from dash) (1.4.0)\n",
            "Requirement already satisfied: flask-compress in c:\\users\\paulo\\anaconda3\\lib\\site-packages (from dash) (1.4.0)\n",
            "Requirement already satisfied: six in c:\\users\\paulo\\anaconda3\\lib\\site-packages (from plotly->dash) (1.12.0)\n",
            "Requirement already satisfied: retrying>=1.3.3 in c:\\users\\paulo\\anaconda3\\lib\\site-packages (from plotly->dash) (1.3.3)\n",
            "Requirement already satisfied: click>=5.1 in c:\\users\\paulo\\anaconda3\\lib\\site-packages (from Flask>=1.0.2->dash) (7.0)\n",
            "Requirement already satisfied: Werkzeug>=0.15 in c:\\users\\paulo\\anaconda3\\lib\\site-packages (from Flask>=1.0.2->dash) (0.16.0)\n",
            "Requirement already satisfied: Jinja2>=2.10.1 in c:\\users\\paulo\\anaconda3\\lib\\site-packages (from Flask>=1.0.2->dash) (2.10.3)\n",
            "Requirement already satisfied: itsdangerous>=0.24 in c:\\users\\paulo\\anaconda3\\lib\\site-packages (from Flask>=1.0.2->dash) (1.1.0)\n",
            "Requirement already satisfied: MarkupSafe>=0.23 in c:\\users\\paulo\\anaconda3\\lib\\site-packages (from Jinja2>=2.10.1->Flask>=1.0.2->dash) (1.1.1)\n",
            "Collecting pyautogui\n",
            "  Downloading https://files.pythonhosted.org/packages/a3/69/c8b0cab7cbc6badbc0079392e5d4b50f3e4be63e0091f0f414bd1ea4ac07/PyAutoGUI-0.9.50.tar.gz (57kB)\n",
            "Collecting pymsgbox (from pyautogui)\n",
            "  Downloading https://files.pythonhosted.org/packages/ac/e0/0ac1ac67178a71b92e46f46788ddd799bb40bff40acd60c47c50be170374/PyMsgBox-1.0.7.tar.gz\n",
            "Collecting PyTweening>=1.0.1 (from pyautogui)\n",
            "  Downloading https://files.pythonhosted.org/packages/b9/f8/c32a58d6e4dff8aa5c27e907194d69f3b57e525c2e4af96f39c6e9c854d2/PyTweening-1.0.3.zip\n",
            "Collecting pyscreeze>=0.1.21 (from pyautogui)\n",
            "  Downloading https://files.pythonhosted.org/packages/b7/7d/a0e85da28a96e2ff2f39e682ff84eb92501b564883fde87d92aee29966a2/PyScreeze-0.1.26.tar.gz\n",
            "Collecting pygetwindow>=0.0.5 (from pyautogui)\n",
            "  Downloading https://files.pythonhosted.org/packages/28/8b/f1a396f8ec5923e11246fabe29419a6dd8949a0360337fe6ad0f28a9c33b/PyGetWindow-0.0.8.tar.gz\n",
            "Collecting mouseinfo (from pyautogui)\n",
            "  Downloading https://files.pythonhosted.org/packages/28/fa/b2ba8229b9381e8f6381c1dcae6f4159a7f72349e414ed19cfbbd1817173/MouseInfo-0.1.3.tar.gz\n",
            "Requirement already satisfied: Pillow>=5.2.0 in c:\\users\\paulo\\anaconda3\\lib\\site-packages (from pyscreeze>=0.1.21->pyautogui) (6.2.0)\n",
            "Collecting pyrect (from pygetwindow>=0.0.5->pyautogui)\n",
            "  Downloading https://files.pythonhosted.org/packages/2f/68/bd7bf96fc44217e769f27912e6c9bb3e9987cba286054af6120448ce8212/PyRect-0.1.4.tar.gz\n",
            "Collecting pyperclip (from mouseinfo->pyautogui)\n",
            "  Downloading https://files.pythonhosted.org/packages/f6/5b/55866e1cde0f86f5eec59dab5de8a66628cb0d53da74b8dbc15ad8dabda3/pyperclip-1.8.0.tar.gz\n",
            "Building wheels for collected packages: pyautogui, pymsgbox, PyTweening, pyscreeze, pygetwindow, mouseinfo, pyrect, pyperclip\n",
            "  Building wheel for pyautogui (setup.py): started\n",
            "  Building wheel for pyautogui (setup.py): finished with status 'done'\n",
            "  Created wheel for pyautogui: filename=PyAutoGUI-0.9.50-cp37-none-any.whl size=35134 sha256=64197df3408f3a6e58f10cdb1dccf592c05550be8a38f652e14abf7c2381c401\n",
            "  Stored in directory: C:\\Users\\paulo\\AppData\\Local\\pip\\Cache\\wheels\\e9\\4d\\ab\\55251d5f40fc314e859ceb9a1ef9f87dbbeb232b7c7ecf7639\n",
            "  Building wheel for pymsgbox (setup.py): started\n",
            "  Building wheel for pymsgbox (setup.py): finished with status 'done'\n",
            "  Created wheel for pymsgbox: filename=PyMsgBox-1.0.7-cp37-none-any.whl size=7326 sha256=f34b5ec354b4add1e4de2525f57052caa3e13d2787406caf7ec3d94210cee0ff\n",
            "  Stored in directory: C:\\Users\\paulo\\AppData\\Local\\pip\\Cache\\wheels\\8e\\62\\9f\\951a04461ec012e443f9aa172598fc8f9c6e409bf753687fad\n",
            "  Building wheel for PyTweening (setup.py): started\n",
            "  Building wheel for PyTweening (setup.py): finished with status 'done'\n",
            "  Created wheel for PyTweening: filename=PyTweening-1.0.3-cp37-none-any.whl size=3821 sha256=184afb0bfc5213798b1502a6721003f0378a3a7d8655debea6b1e7ae7b671fe0\n",
            "  Stored in directory: C:\\Users\\paulo\\AppData\\Local\\pip\\Cache\\wheels\\7b\\92\\30\\06e21159eed2709436bfb6d7c690959e578cf74f029643866e\n",
            "  Building wheel for pyscreeze (setup.py): started\n",
            "  Building wheel for pyscreeze (setup.py): finished with status 'done'\n",
            "  Created wheel for pyscreeze: filename=PyScreeze-0.1.26-cp37-none-any.whl size=11940 sha256=e3e90b600d96138b26980770386281541ed185f9dc51ea34febbf098eaf66a00\n",
            "  Stored in directory: C:\\Users\\paulo\\AppData\\Local\\pip\\Cache\\wheels\\d4\\a5\\e1\\d06a3ae91e6c66ab67d540c215bc2a0da99155c1281e8c921e\n",
            "  Building wheel for pygetwindow (setup.py): started\n",
            "  Building wheel for pygetwindow (setup.py): finished with status 'done'\n",
            "  Created wheel for pygetwindow: filename=PyGetWindow-0.0.8-cp37-none-any.whl size=11015 sha256=a2c70fd89605ba77294c8ceecb0f0d210a2e76a2b03489c71d8e56227c7b5be3\n",
            "  Stored in directory: C:\\Users\\paulo\\AppData\\Local\\pip\\Cache\\wheels\\a7\\20\\2c\\7ba9c02521960b138ff4a635fced58cb7a3bc3cc99d52f56b5\n",
            "  Building wheel for mouseinfo (setup.py): started\n",
            "  Building wheel for mouseinfo (setup.py): finished with status 'done'\n",
            "  Created wheel for mouseinfo: filename=MouseInfo-0.1.3-cp37-none-any.whl size=10911 sha256=104e5e6bc02b291755b0ba8d0975ad42a19b6ec123919012203a69441c360cc0\n",
            "  Stored in directory: C:\\Users\\paulo\\AppData\\Local\\pip\\Cache\\wheels\\eb\\81\\32\\4d7b345486dbc3f3ee45316f8f4cbdebafc1b5d1da3353b529\n",
            "  Building wheel for pyrect (setup.py): started\n",
            "  Building wheel for pyrect (setup.py): finished with status 'done'\n",
            "  Created wheel for pyrect: filename=PyRect-0.1.4-py2.py3-none-any.whl size=9552 sha256=b577094ed4d8e45634ac83ece662cedc46acaaf3af0c6b680234c397edd08339\n",
            "  Stored in directory: C:\\Users\\paulo\\AppData\\Local\\pip\\Cache\\wheels\\3e\\61\\83\\8fd1478e984f7378e57972f5fd9bb0dbffc349fefc9efa5bf9\n",
            "  Building wheel for pyperclip (setup.py): started\n",
            "  Building wheel for pyperclip (setup.py): finished with status 'done'\n",
            "  Created wheel for pyperclip: filename=pyperclip-1.8.0-cp37-none-any.whl size=8697 sha256=f81a66cba4430dc8db4df37a691eb8d324fe4f695d2140b7253d6ae57269c2b7\n",
            "  Stored in directory: C:\\Users\\paulo\\AppData\\Local\\pip\\Cache\\wheels\\b2\\ac\\0a\\b784f0afe26eaf52e88a7e15c7369090deea0354fa1c6fc689\n",
            "Successfully built pyautogui pymsgbox PyTweening pyscreeze pygetwindow mouseinfo pyrect pyperclip\n",
            "Installing collected packages: pymsgbox, PyTweening, pyscreeze, pyrect, pygetwindow, pyperclip, mouseinfo, pyautogui\n",
            "Successfully installed PyTweening-1.0.3 mouseinfo-0.1.3 pyautogui-0.9.50 pygetwindow-0.0.8 pymsgbox-1.0.7 pyperclip-1.8.0 pyrect-0.1.4 pyscreeze-0.1.26\n"
          ],
          "name": "stdout"
        }
      ]
    },
    {
      "cell_type": "code",
      "metadata": {
        "colab_type": "code",
        "id": "jTyBdhCzZtQR",
        "colab": {}
      },
      "source": [
        "#@title Baixando os arquivos auxiliares para a Parte 3 { display-mode: \"form\" }\n",
        "import platform\n",
        "\n",
        "if platform.system() == 'Windows':\n",
        "  !del *.dcm\n",
        "  !del *.jpg\n",
        "  !del *.csv\n",
        "else:\n",
        "  !rm *.dcm\n",
        "  !rm *.jpg\n",
        "  !rm *.csv\n",
        "\n",
        "# se necessário, baixe o wget para windows do endereco: https://eternallybored.org/misc/wget/1.20.3/64/wget.exe\n",
        "!wget https://github.com/paulokuriki/python_for_rads/raw/master/torax_1.dcm\n",
        "!wget https://github.com/paulokuriki/python_for_rads/raw/master/torax_2.dcm\n",
        "!wget https://github.com/paulokuriki/python_for_rads/raw/master/torax_3.dcm\n",
        "!wget https://github.com/paulokuriki/python_for_rads/raw/master/covid.csv"
      ],
      "execution_count": 0,
      "outputs": []
    },
    {
      "cell_type": "code",
      "metadata": {
        "cellView": "code",
        "colab_type": "code",
        "id": "JjRrN5MnqX1R",
        "colab": {}
      },
      "source": [
        "import pydicom\n",
        "import glob\n",
        "import cv2\n",
        "import os\n",
        "\n",
        "# define a pasta inicial que será vasculhada. Define que serão procurados os arquivos com extensão .dcm\n",
        "var_pasta = \"*.dcm\"\n",
        "# o objeto glob cria uma lista com o nome de todos os arquivos encontrados que atendam o filtro informado no parâmetro. \n",
        "lista_dicom_files = glob.glob(var_pasta)\n",
        "\n",
        "# loop para cada arquivo DICOM encontrado na lista criada pelo objeto glob\n",
        "i = 0\n",
        "for var_arq_dicom in lista_dicom_files:\n",
        "\n",
        "  # le o arquivo DICOM e pega o pixel_data\n",
        "  ds = pydicom.dcmread(var_arq_dicom)\n",
        "  img_pixel_array = ds.pixel_array\n",
        "\n",
        "  # cria o nome do novo arquivo jpeg, trocando a extensão dcm para jpeg\n",
        "  var_nome_arq_jpg = var_arq_dicom.replace('.dcm', '.jpg')\n",
        "\n",
        "  # armazena \n",
        "  cv2.imwrite(var_nome_arq_jpg, img_pixel_array)\n",
        "  print(\"Criado arquivo:\", var_nome_arq_jpg)\n",
        "\n",
        "  # soma um número no contador de exames convertidos\n",
        "  i = i + 1\n",
        "\n",
        "print(\"Total de exames convertidos:\", i)"
      ],
      "execution_count": 0,
      "outputs": []
    },
    {
      "cell_type": "markdown",
      "metadata": {
        "colab_type": "text",
        "id": "O5kos6hXqcNa"
      },
      "source": [
        "## Enviando Emails automaticamento\n",
        "\n",
        "Várias bibliotecas podem ser utilizadas para enviar emails.\n",
        "\n",
        "A biblioteca padrão do Python é a `smtplib`.\n",
        "\n",
        "Porém, outras bibliotecas, como a `yagmail`, utilizam a `smtplib` facilitando seu uso para o Gmail.\n"
      ]
    },
    {
      "cell_type": "code",
      "metadata": {
        "colab_type": "code",
        "id": "8dzTgM7uY7iZ",
        "colab": {}
      },
      "source": [
        "import yagmail\n",
        "import getpass\n",
        "\n",
        "sender_email = input(\"Email do remetente:\")\n",
        "receiver_email = input(\"Email do destinatário:\")\n",
        "subject = input(\"Assunto:\")\n",
        "sender_password = getpass.getpass(prompt='Password: ')\n",
        "yag = yagmail.SMTP(user=sender_email, password=sender_password)\n",
        "\n",
        "contents = [\n",
        "  \"Este é um teste de envio de email. \\n\",\n",
        "  \"Utilizando essa biblioteca, é muito fácil enviar emails. \\n\",\n",
        "  \"Você pode adaptar esse código para ser utilizado como quiser.\",\n",
        "]\n",
        "\n",
        "yag.send(receiver_email, subject, contents)\n",
        "\n",
        "print(\"Email enviado com sucesso.\")\n",
        "\n",
        "# pode ser necessário alterar sua configuração para acesso via smtp no gmail\n",
        "# https://myaccount.google.com/lesssecureapps?pli=1"
      ],
      "execution_count": 0,
      "outputs": []
    },
    {
      "cell_type": "markdown",
      "metadata": {
        "colab_type": "text",
        "id": "OJrUJeM6jW6L"
      },
      "source": [
        "## Trabalhando com Arquivos CSV\n",
        "\n",
        "Utilizando as bibliotecas pandas é possível carregar dados a partir de arquivos csv, xls, txt, entre outros.\n",
        "\n",
        "A biblioteca pandas é uma das mais utilizadas em Python para tratamento de dados."
      ]
    },
    {
      "cell_type": "code",
      "metadata": {
        "colab_type": "code",
        "id": "gLaFLZenjVZi",
        "colab": {}
      },
      "source": [
        "import pandas as pd\n",
        "\n",
        "# carrega num DataFrame o arquivo covid.csv que foi baixado do endereço https://covid.saude.gov.br/\n",
        "df = pd.read_csv(\"covid.csv\", delimiter=\";\")\n",
        "\n",
        "# mostra as primeiras linhas do arquivo CSV.\n",
        "df.head(5)"
      ],
      "execution_count": 0,
      "outputs": []
    },
    {
      "cell_type": "markdown",
      "metadata": {
        "id": "dFobVwXrDBr1",
        "colab_type": "text"
      },
      "source": [
        "# ATENÇÃO!!! EXECUÇÃO LOCAL A PARTIR DESTE PONTO\n",
        "\n",
        "Os códigos abaixo precisam de acesso à sua máquina local, seja para criar um servidor web usando `Flask` ou para controlar o mouse do seu computador.\n",
        "\n",
        "Portanto, não funcionarão no Google Colab.\n",
        "\n",
        "Para testá-lo, execute no Jupyter Notebook do seu computador.\n",
        "\n",
        "![alt text](https://github.com/paulokuriki/python_for_rads/raw/master/local_pc.png)\n",
        "\n",
        "\n",
        "---\n",
        "\n"
      ]
    },
    {
      "cell_type": "markdown",
      "metadata": {
        "colab_type": "text",
        "id": "2Zj2jw0fGGOX"
      },
      "source": [
        "# Criando Dashboards\n",
        "\n",
        "A partir dos dados tabulares obtidos a partir de arquivos CSV, é possível criar facilmente ambientes dashboards web usando a biblioteca `dash`. \n"
      ]
    },
    {
      "cell_type": "code",
      "metadata": {
        "colab_type": "code",
        "id": "og7mEaF8kasM",
        "colab": {}
      },
      "source": [
        "import dash\n",
        "import dash_core_components as dcc\n",
        "import dash_html_components as html\n",
        "import pandas as pd\n",
        "import plotly.graph_objs as go\n",
        "\n",
        "app = dash.Dash()\n",
        "\n",
        "# abre o arquivo CSV\n",
        "df = pd.read_csv(\"covid.csv\", delimiter=\";\")\n",
        "\n",
        "# define o layout HTML\n",
        "app.layout = html.Div([\n",
        "  dcc.Graph(\n",
        "    id='casosAcumulados',\n",
        "    figure={\n",
        "      'data': [\n",
        "        go.Scatter(\n",
        "          # ---- OBRIGATORIO ----- \n",
        "          # define quais valores entram nos eixos X, Y e o texto do marcador\n",
        "          x=df[df['regiao'] == i]['data'],\n",
        "          y=df[df['regiao'] == i]['casosAcumulados'],\n",
        "          text=df[df['regiao'] == i]['estado'],\n",
        "                    \n",
        "          # --- OPCIONAL - personalizacao do gráfico.\n",
        "          mode='lines+markers',\n",
        "          opacity=0.8,\n",
        "          marker={'size': 15, 'line': {'width': 0.5, 'color': 'white'}},\n",
        "          name=i\n",
        "        ) for i in df.regiao.unique()\n",
        "      ],\n",
        "      layout': go.Layout(\n",
        "        # --- OPCIONAL - define os títulos dos eixos X e Y \n",
        "        xaxis={'title': 'Data da Notificação'},\n",
        "        yaxis={'title': 'Casos Acumulados'},\n",
        "              \n",
        "        # --- OPCIONAL - personalizacao do gráfico.\n",
        "        title='CORONAVÍRUS - CASOS NO BRASIL',\n",
        "        margin={'l': 40, 'b': 40, 't': 40, 'r': 10},\n",
        "        legend={'x': 0, 'y': 1},\n",
        "        hovermode='closest'\n",
        "      )\n",
        "        }\n",
        "    )\n",
        "])\n",
        "\n",
        "if __name__ == '__main__':\n",
        "    app.run_server()"
      ],
      "execution_count": 0,
      "outputs": []
    },
    {
      "cell_type": "markdown",
      "metadata": {
        "colab_type": "text",
        "id": "nCMrZEQzv4j_"
      },
      "source": [
        "# Automatizando tarefas\n",
        "\n",
        "Utilizando a biblioteca `pyAutoGUI` é possível controlar o mouse e o teclado do seu computador, automatizando tarefas repetitivas.\n",
        "\n",
        "![alt text](https://github.com/paulokuriki/python_for_rads/raw/master/fantasia.gif)\n"
      ]
    },
    {
      "cell_type": "code",
      "metadata": {
        "colab_type": "code",
        "id": "dGvsMBK1mMOX",
        "colab": {}
      },
      "source": [
        "import pyautogui\n",
        "\n",
        "screenWidth, screenHeight = pyautogui.size() # Get the size of the primary monitor.\n",
        "currentMouseX, currentMouseY = pyautogui.position() # Get the XY position of the mouse.\n",
        "\n",
        "pyautogui.moveTo(screenWidth*0.1, screenHeight*0.1, duration=2, tween=pyautogui.easeInOutQuad) # Move the mouse to XY coordinates.\n",
        "pyautogui.moveTo(screenWidth*0.9, screenHeight*0.1, duration=2, tween=pyautogui.easeInOutQuad) # Move the mouse to XY coordinates.\n",
        "pyautogui.moveTo(screenWidth*0.9, screenHeight*0.9, duration=2, tween=pyautogui.easeInOutQuad) # Move the mouse to XY coordinates.\n",
        "pyautogui.moveTo(screenWidth*0.1, screenHeight*0.9, duration=2, tween=pyautogui.easeInOutQuad) # Move the mouse to XY coordinates.\n",
        "pyautogui.moveTo(screenWidth*0.1, screenHeight*0.1, duration=2, tween=pyautogui.easeInOutQuad) # Move the mouse to XY coordinates.\n",
        "\n",
        "\n",
        "\n",
        "\n",
        "#pyautogui.moveTo(100, 150) # Move the mouse to XY coordinates.\n",
        "#pyautogui.click()          # Click the mouse.\n",
        "#pyautogui.click(100, 200)  # Move the mouse to XY coordinates and click it.\n",
        "#pyautogui.move(0, 10)      # Move mouse 10 pixels down from its current position.\n",
        "#pyautogui.doubleClick()    # Double click the mouse.\n",
        "#pyautogui.moveTo(500, 500, duration=2, tween=pyautogui.easeInOutQuad)  # Use tweening/easing function to move mouse over 2 seconds.\n",
        "#pyautogui.write('Hello world!', interval=0.25)  # type with quarter-second pause in between each key\n",
        "#pyautogui.press('esc')     # Press the Esc key. All key names are in pyautogui.KEY_NAMES\n",
        "#pyautogui.keyDown('shift') # Press the Shift key down and hold it.\n",
        "#pyautogui.press(['left', 'left', 'left', 'left']) # Press the left arrow key 4 times.\n",
        "#pyautogui.keyUp('shift')   # Let go of the Shift key.\n",
        "#pyautogui.hotkey('ctrl', 'c') # Press the Ctrl-C hotkey combination.\n",
        "#pyautogui.alert('This is the message to display.') # Make an alert box appear and pause the program until OK is clicked."
      ],
      "execution_count": 0,
      "outputs": []
    },
    {
      "cell_type": "code",
      "metadata": {
        "colab_type": "code",
        "id": "M65G3GFnsrXG",
        "colab": {}
      },
      "source": [
        ""
      ],
      "execution_count": 0,
      "outputs": []
    }
  ]
}