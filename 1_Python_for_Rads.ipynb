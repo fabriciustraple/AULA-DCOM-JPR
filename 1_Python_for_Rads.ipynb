{
  "nbformat": 4,
  "nbformat_minor": 0,
  "metadata": {
    "colab": {
      "name": "1. Python for Rads.ipynb",
      "provenance": [],
      "collapsed_sections": [],
      "toc_visible": true,
      "include_colab_link": true
    },
    "kernelspec": {
      "display_name": "Python 3",
      "language": "python",
      "name": "python3"
    },
    "language_info": {
      "codemirror_mode": {
        "name": "ipython",
        "version": 3
      },
      "file_extension": ".py",
      "mimetype": "text/x-python",
      "name": "python",
      "nbconvert_exporter": "python",
      "pygments_lexer": "ipython3",
      "version": "3.7.4"
    }
  },
  "cells": [
    {
      "cell_type": "markdown",
      "metadata": {
        "id": "view-in-github",
        "colab_type": "text"
      },
      "source": [
        "<a href=\"https://colab.research.google.com/github/paulokuriki/python_for_rads/blob/master/1_Python_for_Rads.ipynb\" target=\"_parent\"><img src=\"https://colab.research.google.com/assets/colab-badge.svg\" alt=\"Open In Colab\"/></a>"
      ]
    },
    {
      "cell_type": "markdown",
      "metadata": {
        "colab_type": "text",
        "id": "2szgnMmBY5R7"
      },
      "source": [
        "# Introdução ao Python\n",
        "\n",
        "![alt text](https://github.com/paulokuriki/python_for_rads/raw/master/Header1.PNG)\n",
        "\n",
        "A função `print()` exibe uma informação em tela.\n",
        "\n",
        "Utilização: `print(argumento)`"
      ]
    },
    {
      "cell_type": "code",
      "metadata": {
        "colab_type": "code",
        "id": "q0Wvn22tTHvF",
        "colab": {}
      },
      "source": [
        "#@title Preparando o ambiente para a Parte 1 { display-mode: \"form\" }\n",
        "import platform\n",
        "\n",
        "if platform.system() == 'Windows':\n",
        "  !del *.png\n",
        "else:\n",
        "  !rm *.png\n",
        "\n",
        "# se necessário, baixe o wget para windows do endereco: https://eternallybored.org/misc/wget/1.20.3/64/wget.exe\n",
        "!wget https://github.com/paulokuriki/python_for_rads/raw/master/logo.png"
      ],
      "execution_count": 0,
      "outputs": []
    },
    {
      "cell_type": "code",
      "metadata": {
        "colab_type": "code",
        "id": "CyXjSvqaZgar",
        "colab": {}
      },
      "source": [
        "# a linha abaixo vai exibir o argumento 100\n",
        "print(100)"
      ],
      "execution_count": 0,
      "outputs": []
    },
    {
      "cell_type": "code",
      "metadata": {
        "colab_type": "code",
        "id": "L4woLiqhapDd",
        "colab": {}
      },
      "source": [
        "# a linha baixo vai exibir o resultado da operação abaixo:\n",
        "print(100 + 200)"
      ],
      "execution_count": 0,
      "outputs": []
    },
    {
      "cell_type": "markdown",
      "metadata": {
        "colab_type": "text",
        "id": "89Luw3deY5yx"
      },
      "source": [
        "# Variáveis e Tipos de Dados\n",
        "\n",
        "Variável é um espaço na memória no computador, que tem um nome e armazena um valor.\n",
        "\n",
        "Exemplos: \n",
        "\n",
        "`ano = 2020`\n",
        "\n",
        "`peso = 80`\n",
        "\n",
        "Atenção, o Python é *case sensitive*, ou seja, `Ano` e `ano` correspondem a diferentes variáveis. Por isso é aconselhável sempre nomear as variáveis em *minúsculo*.\n",
        "\n",
        "Os valores armazenados nas variáveis têm tipos. Alguns exemplos:\n",
        "\n",
        "- Texto: str\n",
        "- Número: int, float, complex\n",
        "- Sequências: list, tuple\n",
        "- Mapping: dict"
      ]
    },
    {
      "cell_type": "code",
      "metadata": {
        "colab_type": "code",
        "id": "MqJZ07vNEHAF",
        "colab": {}
      },
      "source": [
        "# designando valores numéricos para variáveis\n",
        "ano = 2020\n",
        "ano_nasc = 1979\n",
        "idade = ano - ano_nasc\n",
        "\n",
        "# exibe a idade calculada\n",
        "print(idade)"
      ],
      "execution_count": 0,
      "outputs": []
    },
    {
      "cell_type": "code",
      "metadata": {
        "colab_type": "code",
        "id": "sf5D3Y1mdx3G",
        "colab": {}
      },
      "source": [
        "# designando textos para variáveis\n",
        "nome = \"Paulo\"\n",
        "sobrenome = 'Kuriki'\n",
        "nome_completo = nome + sobrenome\n",
        "\n",
        "print(nome_completo, idade)\n",
        "# Caso o nome tenha ficado sem espaço, como você resolveria esse problema?"
      ],
      "execution_count": 0,
      "outputs": []
    },
    {
      "cell_type": "markdown",
      "metadata": {
        "colab_type": "text",
        "id": "j-576VSudYNS"
      },
      "source": [
        "# Cláusulas condicionais\n",
        "\n",
        "Através do comando `if`, é possível definir condições.\n",
        "\n",
        "Exemplo:\n",
        "\n",
        "`if condição:`\n",
        "\n",
        "--- `executa tarefas positivas`\n",
        "\n",
        "--- `executa tarefas positivas`\n",
        "\n",
        "--- `executa tarefas positivas`\n",
        "\n",
        "`else:`\n",
        "\n",
        "--- `executa tarefas negativas`\n",
        "\n",
        "--- `executa tarefas negativas`\n",
        "\n",
        "--- `executa tarefas negativas`\n",
        "\n",
        "*Atenção: os blocos dentro de cada condicional são agrupados pela indentação.*\n"
      ]
    },
    {
      "cell_type": "code",
      "metadata": {
        "colab_type": "code",
        "id": "yikzkhRRdhiO",
        "colab": {}
      },
      "source": [
        "ano = 2020\n",
        "ano_nasc = 2000\n",
        "idade = ano - ano_nasc\n",
        "\n",
        "# avalia se é maior de idade\n",
        "if idade > 18:\n",
        "  print(idade, \"Você é maior de idade. Pode comprar cerveja.\")\n",
        "else:\n",
        "  print(idade, \"Você é menor de idade. Vá beber leite.\")\n",
        "# mude a data de nascimento e execute novamente"
      ],
      "execution_count": 0,
      "outputs": []
    },
    {
      "cell_type": "markdown",
      "metadata": {
        "colab_type": "text",
        "id": "12zHjJsiJ0vo"
      },
      "source": [
        "Sequências\n",
        "\n",
        "Sequências são conjuntos de dados que podem agrupados.\n",
        "\n",
        "Existem vários tipos de sequências, como por exemplo, `listas`, `tuplas`, `sets` e `dicionários`."
      ]
    },
    {
      "cell_type": "code",
      "metadata": {
        "colab_type": "code",
        "id": "S1ucmI9gfddP",
        "colab": {
          "base_uri": "https://localhost:8080/",
          "height": 34
        },
        "outputId": "12e70068-aafe-42b0-f4da-4f157fadba9d"
      },
      "source": [
        "# cria uma lista de tipos de exames\n",
        "exames = [\"RM de Crânio\", \"RM da Coluna Cervical\", \"RM da Coluna Torácica\", \"RM da Columa Lombar\"]\n",
        "\n",
        "print(exames)"
      ],
      "execution_count": 8,
      "outputs": [
        {
          "output_type": "stream",
          "text": [
            "['RM de Crânio', 'RM da Coluna Cervical', 'RM da Coluna Torácica', 'RM da Columa Lombar']\n"
          ],
          "name": "stdout"
        }
      ]
    },
    {
      "cell_type": "markdown",
      "metadata": {
        "colab_type": "text",
        "id": "IgbZgoVjgZ5B"
      },
      "source": [
        "# Loops\n",
        "\n",
        "Loops servem para repetir determinadas ações. Os principais tipos de loops em Python são o FOR e o WHILE\n",
        "\n",
        "`For`: Serve para iterar por uma sequência, como por exemplo, uma `lista`.\n",
        "\n",
        "`While`: Executa um loop enquanto uma condição for atendida. \n"
      ]
    },
    {
      "cell_type": "code",
      "metadata": {
        "colab_type": "code",
        "id": "F7gclxi-hEjE",
        "colab": {}
      },
      "source": [
        "# cria uma lista de tipos de exames\n",
        "exames = [\"RM de Crânio\", \"RM da Coluna Cervical\", \"RM da Coluna Torácica\", \"RM da Columa Lombar\"]\n",
        "\n",
        "# loop do tipo FOR que executa uma iteração na lista exames\n",
        "for exame in exames:\n",
        "  print(\"Eu laudo:\", exame)"
      ],
      "execution_count": 0,
      "outputs": []
    },
    {
      "cell_type": "code",
      "metadata": {
        "colab_type": "code",
        "id": "XqweCQpuhGTW",
        "colab": {}
      },
      "source": [
        "# contagem regressiva\n",
        "numero = 5\n",
        "\n",
        "# loop do tipo WHILE executado enquanto a variável for maior do que zero\n",
        "while numero > 0:\n",
        "  print(\"Contagem:\", numero)\n",
        "  numero = numero - 1"
      ],
      "execution_count": 0,
      "outputs": []
    },
    {
      "cell_type": "markdown",
      "metadata": {
        "colab_type": "text",
        "id": "Z_U-dI6GiXPk"
      },
      "source": [
        "# Funções\n",
        "\n",
        "Funções são um bloco de códigos que podem receber parâmetros e retornar valores.\n",
        "\n",
        "Para criar uma função, utilize a palavra `def`."
      ]
    },
    {
      "cell_type": "code",
      "metadata": {
        "colab_type": "code",
        "id": "QQKZgtttiT6j",
        "colab": {}
      },
      "source": [
        "peso = 78\n",
        "altura = 1.82\n",
        "var_imc = peso / (altura ** 2)\n",
        "\n",
        "print (\"Meu IMC é de :\", var_imc)\n"
      ],
      "execution_count": 0,
      "outputs": []
    },
    {
      "cell_type": "markdown",
      "metadata": {
        "colab_type": "text",
        "id": "OygfaLeCVgcr"
      },
      "source": [
        "Se o IMC for calculado várias vezes, convém criar uma função que facilite esse cálculo."
      ]
    },
    {
      "cell_type": "code",
      "metadata": {
        "colab_type": "code",
        "id": "uIGMef_yhEON",
        "colab": {}
      },
      "source": [
        "# cria uma função calcular_imc que recebe os parâmetros peso e altura e retorna o valor calculado do IMC.\n",
        "def calcular_imc(peso, altura):\n",
        "  imc = peso / (altura ** 2)\n",
        "  return imc\n",
        "\n",
        "print (\"IMC João:\", calcular_imc (78, 1.82) )\n",
        "print (\"IMC Carla:\",  calcular_imc (65, 1.72) )\n",
        "print (\"IMC Maria:\",  calcular_imc (95, 1.75) )\n",
        "print (\"IMC Joaquim:\",  calcular_imc (82, 1.52) )"
      ],
      "execution_count": 0,
      "outputs": []
    },
    {
      "cell_type": "markdown",
      "metadata": {
        "colab_type": "text",
        "id": "bmX4SViSev1l"
      },
      "source": [
        "# Importando Bibliotecas\n",
        "\n",
        "Muitas funções como a `print()` já vem carregadas por padrão no Python. \n",
        "Outras precisam ser importadas.\n",
        "\n",
        "É possível importar apenas toda uma biblioteca. Exemplo:\n",
        "\n",
        "`import IPython`\n",
        "\n",
        "Ou importar apenas o módulo a ser utilizado. Exemplo:\n",
        "\n",
        "`from IPython.display import Image`"
      ]
    },
    {
      "cell_type": "code",
      "metadata": {
        "colab_type": "code",
        "id": "1C_oED6nMvgu",
        "colab": {}
      },
      "source": [
        "# carrega a função Image a partir da classe display da biblioteca IPython\n",
        "from IPython.display import Image\n",
        "\n",
        "# carrega o arquivo \"logo.png\" utilizando a função Image\n",
        "imagem = Image(filename=\"logo.png\")\n",
        "\n",
        "# exibe a imagem carregada\n",
        "display(imagem)"
      ],
      "execution_count": 0,
      "outputs": []
    }
  ]
}