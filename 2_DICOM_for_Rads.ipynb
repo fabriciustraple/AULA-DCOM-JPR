{
  "nbformat": 4,
  "nbformat_minor": 0,
  "metadata": {
    "colab": {
      "name": "2. DICOM for Rads.ipynb",
      "provenance": [],
      "toc_visible": true,
      "mount_file_id": "1idNM8J7P42sC8GZC1YSJsu18QJUhtioO",
      "authorship_tag": "ABX9TyNCpxMrK2O5d3axNIfa24rv",
      "include_colab_link": true
    },
    "kernelspec": {
      "name": "python3",
      "display_name": "Python 3"
    }
  },
  "cells": [
    {
      "cell_type": "markdown",
      "metadata": {
        "id": "view-in-github",
        "colab_type": "text"
      },
      "source": [
        "<a href=\"https://colab.research.google.com/github/paulokuriki/python_for_rads/blob/master/2_DICOM_for_Rads.ipynb\" target=\"_parent\"><img src=\"https://colab.research.google.com/assets/colab-badge.svg\" alt=\"Open In Colab\"/></a>"
      ]
    },
    {
      "cell_type": "markdown",
      "metadata": {
        "id": "c0rBG3SsCcG0",
        "colab_type": "text"
      },
      "source": [
        "# Tratando Arquivos DICOM pelo Python\n",
        "\n",
        "![alt text](https://github.com/paulokuriki/python_for_rads/raw/master/Header2.PNG)\n",
        "O Python dispõe de duas bibliotecas para tratamento de arquivos e transmissões DICOM\n",
        "\n",
        "`pydicom`: Utilizada para abrir arquivos DICOM, ler os metadados e carregar imagens.\n",
        "\n",
        "`pynetdicom`: Utilizada para realizar os métodos DICOM C-FIND, C-MOVE, C-GET permitindo fazer queries no PACS e fazer transmissões de arquivos DICOM"
      ]
    },
    {
      "cell_type": "code",
      "metadata": {
        "id": "QolIF9GgEnbQ",
        "colab_type": "code",
        "colab": {}
      },
      "source": [
        "#@title Preparando o ambiente para o teste { display-mode: \"form\" }\n",
        "# No Google Colab, insira o símbolo ! para executar um comando do shell\n",
        "!pip install pydicom\n",
        "!pip install pynetdicom\n",
        "\n",
        "!rm *.dcm\n",
        "!rm *.jpg\n",
        "!rm *.png\n",
        "!wget https://github.com/paulokuriki/python_for_rads/raw/master/torax_1.dcm\n",
        "!wget https://github.com/paulokuriki/python_for_rads/raw/master/torax_2.dcm\n",
        "!wget https://github.com/paulokuriki/python_for_rads/raw/master/torax_3.dcm\n",
        "!wget https://github.com/paulokuriki/python_for_rads/raw/master/logo.png"
      ],
      "execution_count": 0,
      "outputs": []
    },
    {
      "cell_type": "markdown",
      "metadata": {
        "id": "a5ks1RcMQc16",
        "colab_type": "text"
      },
      "source": [
        "# Carregando imagens dos Arquivos DICOM\n",
        "\n",
        "1.  Importe as bibliotecas `pydicom` e `matplotlib`. \n",
        "2.  Abra o arquivo DICOM usando a função `pydicom.dcmread(nome_do_arquivo)`.\n",
        "3.  A matriz da imagem pode ser acessada pela propridade `pixel_array`.\n",
        "4.  Carregue no módulo `pyplot` do `matplotlib` o `pixel_array`.\n",
        "5.  Exiba os objetos imshow utilizando a função `show()`.\n"
      ]
    },
    {
      "cell_type": "code",
      "metadata": {
        "id": "upvno_v7DUTM",
        "colab_type": "code",
        "colab": {}
      },
      "source": [
        "import pydicom\n",
        "from matplotlib import pyplot\n",
        "\n",
        "# variável com o caminho completo para o arquivo DICOM\n",
        "var_arq_dicom = \"/content/torax_2.dcm\"\n",
        "# lê o arquivo DICOM utilizando a função dcmread\n",
        "dataset = pydicom.dcmread(var_arq_dicom)\n",
        "\n",
        "# carrega o pixel_array da imagem no pyplot e exibe a imagem \n",
        "pyplot.imshow(dataset.pixel_array, cmap=pyplot.cm.gray)\n",
        "pyplot.show()\n"
      ],
      "execution_count": 0,
      "outputs": []
    },
    {
      "cell_type": "markdown",
      "metadata": {
        "id": "ZSpXTtwTTp2j",
        "colab_type": "text"
      },
      "source": [
        "# Exibindo os Tags DICOM \n",
        "\n",
        "1.  Abra o arquivo DICOM usando a função `pydicom.dcmread(nome_do_arquivo)`.\n",
        "2.  Leia as Tag DICOM podem ser acessadas como propriedades do objeto dataset\n",
        "\n",
        "Exemplo: `print(dataset.PatientAge)`\n"
      ]
    },
    {
      "cell_type": "code",
      "metadata": {
        "id": "7MUp3R4_FOIl",
        "colab_type": "code",
        "colab": {}
      },
      "source": [
        "# variável com o caminho completo para o arquivo DICOM\n",
        "var_arq_dicom = \"/content/torax_2.dcm\"\n",
        "# lê o arquivo DICOM utilizando a função dcmread\n",
        "dataset = pydicom.dcmread(var_arq_dicom)\n",
        "\n",
        "print (\"Idade:\",  dataset.PatientAge)\n",
        "print (\"Acc Number:\", dataset.AccessionNumber)\n",
        "print (\"Nome da séria:\", dataset.SeriesDescription)\n",
        "print (\"Data da Aquisição:\", dataset.AcquisitionDate)\n"
      ],
      "execution_count": 0,
      "outputs": []
    },
    {
      "cell_type": "markdown",
      "metadata": {
        "id": "TtdBEKSPXH9h",
        "colab_type": "text"
      },
      "source": [
        "# Lendo todos os arquivos DICOM de uma pasta \n",
        "\n",
        "1. Importe a biblioteca glob para criar uma lista com todos os arquivos dentro de uma determinada pasta. É possível utilizar o parâmetro `recursive=True`, para que ele inclua inclusive pastas dentro de pastas.\n",
        "2. Utilize como modelo os códigos acima e dentro de um loop for, exiba as informações de cada arquivo encontrado."
      ]
    },
    {
      "cell_type": "code",
      "metadata": {
        "id": "yF_Ne6GRCUXS",
        "colab_type": "code",
        "colab": {}
      },
      "source": [
        "import glob\n",
        "\n",
        "# define a pasta inicial que será vasculhada. Define que serão procurados os arquivos com extensão .dcm\n",
        "var_pasta = \"/content/*.dcm\"\n",
        "# o objeto glob cria uma lista com o nome de todos os arquivos encontrados que atendam o filtro informado no parâmetro. \n",
        "lista_dicom_files = glob.glob(var_pasta)\n",
        "\n",
        "# loop para cada arquivo DICOM encontrado na lista criada pelo objeto glob\n",
        "for var_arq_dicom in lista_dicom_files:\n",
        "  dataset = pydicom.dcmread(var_arq_dicom)\n",
        "\n",
        "  print (\"Idade:\",  dataset.PatientAge)\n",
        "  print (\"Acc Number:\", dataset.AccessionNumber)\n",
        "  print (\"Nome da séria:\", dataset.SeriesDescription)\n",
        "  print (\"Data da Aquisição:\", dataset.AcquisitionDate)\n",
        "\n",
        "  pyplot.imshow(dataset.pixel_array, cmap=pyplot.cm.gray)\n",
        "  pyplot.show()"
      ],
      "execution_count": 0,
      "outputs": []
    }
  ]
}